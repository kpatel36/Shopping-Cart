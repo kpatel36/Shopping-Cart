{
 "cells": [
  {
   "cell_type": "markdown",
   "id": "ebf22fb6",
   "metadata": {},
   "source": [
    "# Address Book Exercise"
   ]
  },
  {
   "cell_type": "code",
   "execution_count": 1,
   "id": "cb69d0b1",
   "metadata": {},
   "outputs": [
    {
     "name": "stdout",
     "output_type": "stream",
     "text": [
      "Harry Potter lives at Privet Drive\n",
      "Ron Weasley lives at The Burrow\n",
      "Draco Malfoy lives at Malfoy Mansion\n",
      "Dobby The Elf lives at Hogwart\n"
     ]
    }
   ],
   "source": [
    "from IPython.display import clear_output #can use this function to clean up outputs when everything is working\n",
    "\n",
    "def addressbook( ):\n",
    "    addbook={}\n",
    "    while True:\n",
    "        name = input(\"Enter name or type 'quit': \")\n",
    "        if name.lower() == 'quit':\n",
    "            break\n",
    "        else:\n",
    "            address = input(\"Enter address or type 'quit': \")\n",
    "            if address.lower() == 'quit':\n",
    "                print (f\"{name.title()} lives on {address.title()}\")\n",
    "                break\n",
    "            else:\n",
    "                addbook[str(name.title())] = str(address.title())\n",
    "    clear_output()\n",
    "    return addbook\n",
    "\n",
    "newbook = addressbook( )\n",
    "for key in newbook:\n",
    "    print(f'{key} lives at {newbook[key]}')"
   ]
  },
  {
   "cell_type": "markdown",
   "id": "c84f491f",
   "metadata": {},
   "source": [
    "## Build a Shopping Cart\n",
    "### You can use either lists or dictionaries. The program should have the following capabilities:\n",
    "\n",
    "1) Takes in input\n",
    "2) Stores user input into a dictionary or list\n",
    "3) The User can add or delete items\n",
    "4) The User can see current shopping list\n",
    "5) The program Loops until user 'quits'\n",
    "6) Upon quiting the program, print out all items in the user's list"
   ]
  },
  {
   "cell_type": "markdown",
   "id": "19824841",
   "metadata": {},
   "source": [
    "# simple code - no functions defined"
   ]
  },
  {
   "cell_type": "code",
   "execution_count": 1,
   "id": "72dfcaf4",
   "metadata": {
    "scrolled": true
   },
   "outputs": [],
   "source": [
    "#four options - show/add/delete/quit\n",
    "from IPython.display import clear_output #can use this function to clean up outputs when everything is working\n",
    "shopping_cart = {}\n",
    "cart_total = 0.0\n",
    "keep_going = True\n",
    "while keep_going:\n",
    "    userchoice = str(input('What would you like to do?: Show Items in Cart, Add to Cart, Delete from Cart, or Quit'))\n",
    "    #clear_output()\n",
    "    if userchoice.lower( ) == 'show items in cart':\n",
    "        print(shopping_cart)\n",
    "    elif userchoice.lower( ) == 'add to cart':\n",
    "        item = input('Add to list or type \"list complete\"')\n",
    "        if item.lower() =='list complete':\n",
    "            break            \n",
    "        else:\n",
    "            item_info = {}\n",
    "            shopping_cart[item] = item_info\n",
    "            name = str(item.title())\n",
    "            quantity= int(input ('How many should we add to your cart?'))\n",
    "            price= float(input ('How much does this cost?'))\n",
    "            subtotal = quantity*price\n",
    "            cart_total = subtotal+ cart_total\n",
    "            for details in [\"name\", \"quantity\", \"price\", \"subtotal\"]:\n",
    "                item_info[details] = eval(details)\n",
    "        print(shopping_cart)\n",
    "        print(cart_total)\n",
    "    elif userchoice.lower( ) == 'delete from cart':\n",
    "        delete_item = input('What would you like to delete from your cart?') \n",
    "        deleted_total = shopping_cart[delete_item]['subtotal']\n",
    "        cart_total = cart_total - deleted_total\n",
    "        del shopping_cart[delete_item.lower()]\n",
    "        print(cart_total)\n",
    "    elif userchoice.lower( ) == 'quit':\n",
    "        break\n",
    "    clear_output()\n",
    "for key,inventory in shopping_cart.items():\n",
    "    print('Your final shopping cart has the following: ' )\n",
    "    for item_key in inventory:\n",
    "        print(f'{item_key} : {inventory[item_key]}', end = \", \")\n",
    "print('Your current cart total: $' + str(cart_total))\n",
    "        "
   ]
  },
  {
   "cell_type": "markdown",
   "id": "1e7b8fde",
   "metadata": {},
   "source": [
    "# complicated code - add a function in for adding to cart"
   ]
  },
  {
   "cell_type": "code",
   "execution_count": null,
   "id": "94a76bb9",
   "metadata": {},
   "outputs": [],
   "source": [
    "# shopping cart\n",
    "from IPython.display import clear_output #can use this function to clean up outputs when everything is working\n",
    "# what do you need to order?\n",
    "    #input items . each item is appended to shopping cart - use a try/except ?\n",
    "# want to add in to adding_to_cart but how to format dictionary items properly?\n",
    "#        else:\n",
    "#            item_info = {}\n",
    "#            shopping_cart[item] = item_info\n",
    "#            name = str(item.title())\n",
    "#            quantity= int(input ('How many should we add to your cart?'))\n",
    "#            price= float(input ('How much does this cost?'))\n",
    "#            subtotal = quantity*price\n",
    "#            for details in [\"name\", \"quantity\", \"price\", \"subtotal\"]:\n",
    "#                item_info[details] = eval(details)\n",
    "\n",
    "\n",
    "    \n",
    "shopping_cart = { }#shopping_list represents the listcontaining dictionaries that will hold the item information\n",
    "\n",
    "#function for adding items to cart\n",
    "def adding_to_cart(item):\n",
    "    while True:\n",
    "        item=str(input('Add item name to list or say \"all done\"'))\n",
    "        if item.lower() =='all done':\n",
    "            break\n",
    "        else: \n",
    "            quantity= str(input ('How many would you like to add to your cart?  '))\n",
    "            shopping_cart [str(item.title())] = int(quantity)\n",
    "    clear_output()\n",
    "    for prod in shopping_cart:\n",
    "        print (f'You have added {shopping_cart[prod]} {prod} to your cart')\n",
    "    return shopping_cart\n",
    "\n",
    "while True:\n",
    "    userChoice = str(input('What would you like to do?: Show Items in Cart, Add to Cart, Delete from Cart, or Quit'))\n",
    "    if userChoice.lower( ) == 'show items in cart':\n",
    "        print(shopping_cart)\n",
    "    elif userChoice.lower( ) == 'add to cart':\n",
    "        adding_to_cart(item)\n",
    "    elif userChoice.lower( ) == 'delete from cart':\n",
    "        delete_item = input('What would you like to delete from your cart?')\n",
    "        del shopping_cart[delete_item.lower()]\n",
    "    elif userChoice.lower( ) == 'quit':\n",
    "        break\n",
    "#clear_output()\n",
    "#for key in shopping_cart:\n",
    " #   print('Your final shopping cart contains the following: ' + f'{shopping_cart[key]} {key}, ')\n"
   ]
  },
  {
   "cell_type": "code",
   "execution_count": null,
   "id": "6a31f3d5",
   "metadata": {},
   "outputs": [
    {
     "ename": "IndentationError",
     "evalue": "unexpected indent (1983069839.py, line 5)",
     "output_type": "error",
     "traceback": [
      "\u001b[1;36m  Input \u001b[1;32mIn [25]\u001b[1;36m\u001b[0m\n\u001b[1;33m    def shopping_cart(product):\u001b[0m\n\u001b[1;37m    ^\u001b[0m\n\u001b[1;31mIndentationError\u001b[0m\u001b[1;31m:\u001b[0m unexpected indent\n"
     ]
    }
   ],
   "source": [
    "    #fun elements to add? : \n",
    "    # size/color?\n",
    "    # pricing\n",
    "    # quantity\n",
    "    # subtotal\n",
    "    # free shipping after a certain amount\n",
    "        # simple subtraction problem. \"you are $XXX away from free shipping. \"\n",
    "    # expedited shipping?\n",
    "# part 3 - remove items from cart - create a save for later list?"
   ]
  }
 ],
 "metadata": {
  "kernelspec": {
   "display_name": "Python 3 (ipykernel)",
   "language": "python",
   "name": "python3"
  },
  "language_info": {
   "codemirror_mode": {
    "name": "ipython",
    "version": 3
   },
   "file_extension": ".py",
   "mimetype": "text/x-python",
   "name": "python",
   "nbconvert_exporter": "python",
   "pygments_lexer": "ipython3",
   "version": "3.9.7"
  }
 },
 "nbformat": 4,
 "nbformat_minor": 5
}
